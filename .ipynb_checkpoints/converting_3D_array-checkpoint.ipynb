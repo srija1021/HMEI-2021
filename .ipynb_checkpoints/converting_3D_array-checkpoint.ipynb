{
 "cells": [
  {
   "cell_type": "code",
   "execution_count": 191,
   "id": "26ca2f81",
   "metadata": {},
   "outputs": [],
   "source": [
    "import pandas as pd\n",
    "import numpy as np"
   ]
  },
  {
   "cell_type": "code",
   "execution_count": 192,
   "id": "6828ad66",
   "metadata": {},
   "outputs": [],
   "source": [
    "# constructing dummy dataframe for testing\n",
    "ts = pd.Series(['2017-12-31', '2017-12-31', '2017-12-31', '2019-12-31', '2019-12-31', '2019-12-31',\n",
    "                '2019-02-28', '2019-02-28', '2019-02-28'])\n",
    "df = pd.DataFrame(columns=['lat', 'lon', 'time', 'variable'])\n",
    "\n",
    "lat = [5, 90, 25]\n",
    "lon = [12, 20, 60]\n",
    "# IMPORTANT: I would recommend creating a separate column for the timestamps\n",
    "# and keeping the index of the dataframe to a simple sequence of numbers (0, 1, 2, ..., n)\n",
    "df['time'] = ts\n",
    "\n",
    "for i in range(len(df)):\n",
    "    df.loc[df.index[i], 'lat'] = lat[i % 3]\n",
    "    df.loc[df.index[i], 'lon'] = lon[i % 3]\n",
    "    df.loc[df.index[i], 'variable'] = np.random.randint(0,1000)"
   ]
  },
  {
   "cell_type": "code",
   "execution_count": 193,
   "id": "4ed08306",
   "metadata": {},
   "outputs": [
    {
     "data": {
      "text/html": [
       "<div>\n",
       "<style scoped>\n",
       "    .dataframe tbody tr th:only-of-type {\n",
       "        vertical-align: middle;\n",
       "    }\n",
       "\n",
       "    .dataframe tbody tr th {\n",
       "        vertical-align: top;\n",
       "    }\n",
       "\n",
       "    .dataframe thead th {\n",
       "        text-align: right;\n",
       "    }\n",
       "</style>\n",
       "<table border=\"1\" class=\"dataframe\">\n",
       "  <thead>\n",
       "    <tr style=\"text-align: right;\">\n",
       "      <th></th>\n",
       "      <th>lat</th>\n",
       "      <th>lon</th>\n",
       "      <th>time</th>\n",
       "      <th>variable</th>\n",
       "    </tr>\n",
       "  </thead>\n",
       "  <tbody>\n",
       "    <tr>\n",
       "      <th>0</th>\n",
       "      <td>5</td>\n",
       "      <td>12</td>\n",
       "      <td>2017-12-31</td>\n",
       "      <td>717</td>\n",
       "    </tr>\n",
       "    <tr>\n",
       "      <th>1</th>\n",
       "      <td>90</td>\n",
       "      <td>20</td>\n",
       "      <td>2017-12-31</td>\n",
       "      <td>142</td>\n",
       "    </tr>\n",
       "    <tr>\n",
       "      <th>2</th>\n",
       "      <td>25</td>\n",
       "      <td>60</td>\n",
       "      <td>2017-12-31</td>\n",
       "      <td>755</td>\n",
       "    </tr>\n",
       "    <tr>\n",
       "      <th>3</th>\n",
       "      <td>5</td>\n",
       "      <td>12</td>\n",
       "      <td>2019-12-31</td>\n",
       "      <td>627</td>\n",
       "    </tr>\n",
       "    <tr>\n",
       "      <th>4</th>\n",
       "      <td>90</td>\n",
       "      <td>20</td>\n",
       "      <td>2019-12-31</td>\n",
       "      <td>552</td>\n",
       "    </tr>\n",
       "    <tr>\n",
       "      <th>5</th>\n",
       "      <td>25</td>\n",
       "      <td>60</td>\n",
       "      <td>2019-12-31</td>\n",
       "      <td>797</td>\n",
       "    </tr>\n",
       "    <tr>\n",
       "      <th>6</th>\n",
       "      <td>5</td>\n",
       "      <td>12</td>\n",
       "      <td>2019-02-28</td>\n",
       "      <td>212</td>\n",
       "    </tr>\n",
       "    <tr>\n",
       "      <th>7</th>\n",
       "      <td>90</td>\n",
       "      <td>20</td>\n",
       "      <td>2019-02-28</td>\n",
       "      <td>134</td>\n",
       "    </tr>\n",
       "    <tr>\n",
       "      <th>8</th>\n",
       "      <td>25</td>\n",
       "      <td>60</td>\n",
       "      <td>2019-02-28</td>\n",
       "      <td>224</td>\n",
       "    </tr>\n",
       "  </tbody>\n",
       "</table>\n",
       "</div>"
      ],
      "text/plain": [
       "  lat lon        time variable\n",
       "0   5  12  2017-12-31      717\n",
       "1  90  20  2017-12-31      142\n",
       "2  25  60  2017-12-31      755\n",
       "3   5  12  2019-12-31      627\n",
       "4  90  20  2019-12-31      552\n",
       "5  25  60  2019-12-31      797\n",
       "6   5  12  2019-02-28      212\n",
       "7  90  20  2019-02-28      134\n",
       "8  25  60  2019-02-28      224"
      ]
     },
     "execution_count": 193,
     "metadata": {},
     "output_type": "execute_result"
    }
   ],
   "source": [
    "df"
   ]
  },
  {
   "cell_type": "code",
   "execution_count": 194,
   "id": "70efaa48",
   "metadata": {},
   "outputs": [],
   "source": [
    "# map each unique lat, lon, and timestamp value to the indices of their respective dimension\n",
    "# we will use these indices to insert values into our 3d array \n",
    "lat_vals = np.unique(df['lat'])\n",
    "\n",
    "d_lats = {}\n",
    "for i, lat_val in enumerate(lat_vals):\n",
    "    d_lats[lat_val] = i"
   ]
  },
  {
   "cell_type": "code",
   "execution_count": 195,
   "id": "b5bc9d07",
   "metadata": {},
   "outputs": [],
   "source": [
    "lon_vals = np.unique(df['lon'])\n",
    "\n",
    "d_lons = {}\n",
    "for i, lon_val in enumerate(lon_vals):\n",
    "    d_lons[lon_val] = i"
   ]
  },
  {
   "cell_type": "code",
   "execution_count": 196,
   "id": "9d5aee85",
   "metadata": {},
   "outputs": [],
   "source": [
    "time_stamps = np.unique(df['time'])\n",
    "\n",
    "d_time = {}\n",
    "for i, time_stamp in enumerate(time_stamps):\n",
    "    d_time[time_stamp] = i"
   ]
  },
  {
   "cell_type": "code",
   "execution_count": 197,
   "id": "74784944",
   "metadata": {},
   "outputs": [],
   "source": [
    "# construct empty 3D array of shape:\n",
    "# (num. unique latitudes, num. unique longitudes, num. unique timestamps)\n",
    "# bracket placement is VERY important here!\n",
    "arr = [[[None] * len(time_stamps)] * len(lon_vals)] * len(lat_vals)"
   ]
  },
  {
   "cell_type": "code",
   "execution_count": 198,
   "id": "b6a4e61a",
   "metadata": {},
   "outputs": [
    {
     "data": {
      "text/plain": [
       "[[[None, None, None], [None, None, None], [None, None, None]],\n",
       " [[None, None, None], [None, None, None], [None, None, None]],\n",
       " [[None, None, None], [None, None, None], [None, None, None]]]"
      ]
     },
     "execution_count": 198,
     "metadata": {},
     "output_type": "execute_result"
    }
   ],
   "source": [
    "arr"
   ]
  },
  {
   "cell_type": "code",
   "execution_count": 199,
   "id": "082f4fbd",
   "metadata": {},
   "outputs": [
    {
     "data": {
      "text/plain": [
       "(3, 3, 3)"
      ]
     },
     "execution_count": 199,
     "metadata": {},
     "output_type": "execute_result"
    }
   ],
   "source": [
    "# convert arr to np array (VERY IMPORTANT!)\n",
    "# normal lists in Python don't operate the same way\n",
    "arr = np.array(arr)\n",
    "# shape of arr\n",
    "arr.shape"
   ]
  },
  {
   "cell_type": "code",
   "execution_count": 200,
   "id": "d80d6b05",
   "metadata": {},
   "outputs": [],
   "source": [
    "# assign values to the 3D array\n",
    "\n",
    "# iterate through each row in the dataframe, which is associated with a unique measurement\n",
    "for i in range(len(df)):\n",
    "    c_lat = df.loc[i, 'lat']\n",
    "    c_lon = df.loc[i, 'lon']\n",
    "    c_time = df.loc[i, 'time']\n",
    "    # get the index associated with each lat, lon, and timestamp value from their respective dictionaries\n",
    "    # insert into 3D array using these indices\n",
    "    arr[d_lats[c_lat]][d_lons[c_lon]][d_time[c_time]] = df.loc[i, 'variable']"
   ]
  },
  {
   "cell_type": "code",
   "execution_count": 201,
   "id": "3ee56813",
   "metadata": {},
   "outputs": [
    {
     "data": {
      "text/plain": [
       "array([[[717, 212, 627],\n",
       "        [None, None, None],\n",
       "        [None, None, None]],\n",
       "\n",
       "       [[None, None, None],\n",
       "        [None, None, None],\n",
       "        [755, 224, 797]],\n",
       "\n",
       "       [[None, None, None],\n",
       "        [142, 134, 552],\n",
       "        [None, None, None]]], dtype=object)"
      ]
     },
     "execution_count": 201,
     "metadata": {},
     "output_type": "execute_result"
    }
   ],
   "source": [
    "arr\n",
    "# with a real dataframe, all of the spots would likely be populated"
   ]
  },
  {
   "cell_type": "code",
   "execution_count": null,
   "id": "927a26d7",
   "metadata": {},
   "outputs": [],
   "source": []
  }
 ],
 "metadata": {
  "kernelspec": {
   "display_name": "Python 3",
   "language": "python",
   "name": "python3"
  },
  "language_info": {
   "codemirror_mode": {
    "name": "ipython",
    "version": 3
   },
   "file_extension": ".py",
   "mimetype": "text/x-python",
   "name": "python",
   "nbconvert_exporter": "python",
   "pygments_lexer": "ipython3",
   "version": "3.7.9"
  }
 },
 "nbformat": 4,
 "nbformat_minor": 5
}
