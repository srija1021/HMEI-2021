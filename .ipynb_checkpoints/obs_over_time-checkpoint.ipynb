{
 "cells": [
  {
   "cell_type": "markdown",
   "id": "3fc27114",
   "metadata": {},
   "source": [
    "# Plotting quantity of observations over time"
   ]
  },
  {
   "cell_type": "code",
   "execution_count": 3,
   "id": "a64a4489",
   "metadata": {},
   "outputs": [
    {
     "name": "stdout",
     "output_type": "stream",
     "text": [
      "Done\n"
     ]
    }
   ],
   "source": [
    "# required modules\n",
    "import numpy as np\n",
    "import pandas as pd\n",
    "import matplotlib.pyplot as plt\n",
    "import seaborn as sns\n",
    "import openpyxl\n",
    "import math\n",
    "\n",
    "import datetime as dt\n",
    "import matplotlib.dates\n",
    "from matplotlib.ticker import NullFormatter\n",
    "from matplotlib.dates import MonthLocator, DateFormatter\n",
    "from matplotlib import *\n",
    "\n",
    "print ('Done')"
   ]
  },
  {
   "cell_type": "code",
   "execution_count": 4,
   "id": "ab3e578a",
   "metadata": {},
   "outputs": [
    {
     "data": {
      "text/html": [
       "<div>\n",
       "<style scoped>\n",
       "    .dataframe tbody tr th:only-of-type {\n",
       "        vertical-align: middle;\n",
       "    }\n",
       "\n",
       "    .dataframe tbody tr th {\n",
       "        vertical-align: top;\n",
       "    }\n",
       "\n",
       "    .dataframe thead th {\n",
       "        text-align: right;\n",
       "    }\n",
       "</style>\n",
       "<table border=\"1\" class=\"dataframe\">\n",
       "  <thead>\n",
       "    <tr style=\"text-align: right;\">\n",
       "      <th></th>\n",
       "      <th>Full</th>\n",
       "      <th>Spaced</th>\n",
       "      <th>Key</th>\n",
       "      <th>Key2</th>\n",
       "    </tr>\n",
       "  </thead>\n",
       "  <tbody>\n",
       "    <tr>\n",
       "      <th>0</th>\n",
       "      <td>Alipur, Delhi - DPCC</td>\n",
       "      <td>Alipur</td>\n",
       "      <td>Alipur</td>\n",
       "      <td>Alipur</td>\n",
       "    </tr>\n",
       "    <tr>\n",
       "      <th>1</th>\n",
       "      <td>Anand Vihar, Delhi - DPCC</td>\n",
       "      <td>Anand Vihar</td>\n",
       "      <td>Anand</td>\n",
       "      <td>AnandVihar</td>\n",
       "    </tr>\n",
       "    <tr>\n",
       "      <th>2</th>\n",
       "      <td>Ashok Vihar, Delhi - DPCC</td>\n",
       "      <td>Ashok Vihar</td>\n",
       "      <td>Ashok</td>\n",
       "      <td>AshokVihar</td>\n",
       "    </tr>\n",
       "    <tr>\n",
       "      <th>3</th>\n",
       "      <td>Aya Nagar, Delhi - IMD</td>\n",
       "      <td>Aya Nagar</td>\n",
       "      <td>Aya</td>\n",
       "      <td>AyaNagar</td>\n",
       "    </tr>\n",
       "    <tr>\n",
       "      <th>4</th>\n",
       "      <td>Bawana, Delhi - DPCC</td>\n",
       "      <td>Bawana</td>\n",
       "      <td>Bawana</td>\n",
       "      <td>Bawana</td>\n",
       "    </tr>\n",
       "  </tbody>\n",
       "</table>\n",
       "</div>"
      ],
      "text/plain": [
       "                        Full       Spaced     Key        Key2\n",
       "0       Alipur, Delhi - DPCC       Alipur  Alipur      Alipur\n",
       "1  Anand Vihar, Delhi - DPCC  Anand Vihar   Anand  AnandVihar\n",
       "2  Ashok Vihar, Delhi - DPCC  Ashok Vihar   Ashok  AshokVihar\n",
       "3     Aya Nagar, Delhi - IMD    Aya Nagar     Aya    AyaNagar\n",
       "4       Bawana, Delhi - DPCC       Bawana  Bawana      Bawana"
      ]
     },
     "execution_count": 4,
     "metadata": {},
     "output_type": "execute_result"
    }
   ],
   "source": [
    "# get list of stations\n",
    "stations_file = '~/Documents/GitHub/HMEI-2021/stations.csv'\n",
    "\n",
    "df_stations = pd.read_csv(stations_file)\n",
    "df_stations.head()"
   ]
  },
  {
   "cell_type": "code",
   "execution_count": 5,
   "id": "3b82eaeb",
   "metadata": {},
   "outputs": [
    {
     "data": {
      "text/plain": [
       "34"
      ]
     },
     "execution_count": 5,
     "metadata": {},
     "output_type": "execute_result"
    }
   ],
   "source": [
    "# refer to stations by preset keys\n",
    "stations = df_stations['Key2']\n",
    "stations = [station for station in stations if type(station) == str]\n",
    "len(stations)"
   ]
  },
  {
   "cell_type": "code",
   "execution_count": 7,
   "id": "e9359623",
   "metadata": {
    "scrolled": true
   },
   "outputs": [],
   "source": [
    "file_str = '~/Documents/GitHub/HMEI-2021/Delhi_2015-19/Delhi_Jahangirpuri.csv'\n",
    "df_jahan = pd.read_csv(file_str)"
   ]
  },
  {
   "cell_type": "code",
   "execution_count": 8,
   "id": "ccebca7b",
   "metadata": {},
   "outputs": [
    {
     "data": {
      "text/html": [
       "<div>\n",
       "<style scoped>\n",
       "    .dataframe tbody tr th:only-of-type {\n",
       "        vertical-align: middle;\n",
       "    }\n",
       "\n",
       "    .dataframe tbody tr th {\n",
       "        vertical-align: top;\n",
       "    }\n",
       "\n",
       "    .dataframe thead th {\n",
       "        text-align: right;\n",
       "    }\n",
       "</style>\n",
       "<table border=\"1\" class=\"dataframe\">\n",
       "  <thead>\n",
       "    <tr style=\"text-align: right;\">\n",
       "      <th></th>\n",
       "      <th>From Date</th>\n",
       "      <th>To Date</th>\n",
       "      <th>SO2</th>\n",
       "      <th>PM10</th>\n",
       "      <th>PM2.5</th>\n",
       "      <th>NO2</th>\n",
       "      <th>Ozone</th>\n",
       "      <th>State</th>\n",
       "      <th>City</th>\n",
       "      <th>Station</th>\n",
       "      <th>lat</th>\n",
       "      <th>lon</th>\n",
       "    </tr>\n",
       "  </thead>\n",
       "  <tbody>\n",
       "    <tr>\n",
       "      <th>0</th>\n",
       "      <td>1/1/15 0:00</td>\n",
       "      <td>1/1/15 1:00</td>\n",
       "      <td>None</td>\n",
       "      <td>None</td>\n",
       "      <td>None</td>\n",
       "      <td>None</td>\n",
       "      <td>None</td>\n",
       "      <td>Delhi</td>\n",
       "      <td>Delhi</td>\n",
       "      <td>Jahangirpuri</td>\n",
       "      <td>28.72562</td>\n",
       "      <td>77.182357</td>\n",
       "    </tr>\n",
       "    <tr>\n",
       "      <th>1</th>\n",
       "      <td>1/1/15 1:00</td>\n",
       "      <td>1/1/15 2:00</td>\n",
       "      <td>None</td>\n",
       "      <td>None</td>\n",
       "      <td>None</td>\n",
       "      <td>None</td>\n",
       "      <td>None</td>\n",
       "      <td>Delhi</td>\n",
       "      <td>Delhi</td>\n",
       "      <td>Jahangirpuri</td>\n",
       "      <td>28.72562</td>\n",
       "      <td>77.182357</td>\n",
       "    </tr>\n",
       "    <tr>\n",
       "      <th>2</th>\n",
       "      <td>1/1/15 2:00</td>\n",
       "      <td>1/1/15 3:00</td>\n",
       "      <td>None</td>\n",
       "      <td>None</td>\n",
       "      <td>None</td>\n",
       "      <td>None</td>\n",
       "      <td>None</td>\n",
       "      <td>Delhi</td>\n",
       "      <td>Delhi</td>\n",
       "      <td>Jahangirpuri</td>\n",
       "      <td>28.72562</td>\n",
       "      <td>77.182357</td>\n",
       "    </tr>\n",
       "    <tr>\n",
       "      <th>3</th>\n",
       "      <td>1/1/15 3:00</td>\n",
       "      <td>1/1/15 4:00</td>\n",
       "      <td>None</td>\n",
       "      <td>None</td>\n",
       "      <td>None</td>\n",
       "      <td>None</td>\n",
       "      <td>None</td>\n",
       "      <td>Delhi</td>\n",
       "      <td>Delhi</td>\n",
       "      <td>Jahangirpuri</td>\n",
       "      <td>28.72562</td>\n",
       "      <td>77.182357</td>\n",
       "    </tr>\n",
       "    <tr>\n",
       "      <th>4</th>\n",
       "      <td>1/1/15 4:00</td>\n",
       "      <td>1/1/15 5:00</td>\n",
       "      <td>None</td>\n",
       "      <td>None</td>\n",
       "      <td>None</td>\n",
       "      <td>None</td>\n",
       "      <td>None</td>\n",
       "      <td>Delhi</td>\n",
       "      <td>Delhi</td>\n",
       "      <td>Jahangirpuri</td>\n",
       "      <td>28.72562</td>\n",
       "      <td>77.182357</td>\n",
       "    </tr>\n",
       "  </tbody>\n",
       "</table>\n",
       "</div>"
      ],
      "text/plain": [
       "     From Date      To Date   SO2  PM10 PM2.5   NO2 Ozone  State   City  \\\n",
       "0  1/1/15 0:00  1/1/15 1:00  None  None  None  None  None  Delhi  Delhi   \n",
       "1  1/1/15 1:00  1/1/15 2:00  None  None  None  None  None  Delhi  Delhi   \n",
       "2  1/1/15 2:00  1/1/15 3:00  None  None  None  None  None  Delhi  Delhi   \n",
       "3  1/1/15 3:00  1/1/15 4:00  None  None  None  None  None  Delhi  Delhi   \n",
       "4  1/1/15 4:00  1/1/15 5:00  None  None  None  None  None  Delhi  Delhi   \n",
       "\n",
       "        Station       lat        lon  \n",
       "0  Jahangirpuri  28.72562  77.182357  \n",
       "1  Jahangirpuri  28.72562  77.182357  \n",
       "2  Jahangirpuri  28.72562  77.182357  \n",
       "3  Jahangirpuri  28.72562  77.182357  \n",
       "4  Jahangirpuri  28.72562  77.182357  "
      ]
     },
     "execution_count": 8,
     "metadata": {},
     "output_type": "execute_result"
    }
   ],
   "source": [
    "df_jahan.head()"
   ]
  },
  {
   "cell_type": "code",
   "execution_count": 9,
   "id": "7fe6fb1d",
   "metadata": {},
   "outputs": [
    {
     "name": "stdout",
     "output_type": "stream",
     "text": [
      "Prescribed Standards\n",
      "Exceeding Standards\n",
      "Remarks\n",
      "From Date\n"
     ]
    }
   ],
   "source": [
    "for date in df_jahan['From Date']:\n",
    "    try:\n",
    "        pd_date = pd.to_datetime(date)\n",
    "    except:\n",
    "        print(date)"
   ]
  },
  {
   "cell_type": "code",
   "execution_count": 6,
   "id": "d20d85d9",
   "metadata": {},
   "outputs": [],
   "source": [
    "file_str = '~/Documents/GitHub/HMEI-2021/Delhi_2015-19/Delhi_Alipur.csv'\n",
    "df = pd.read_csv(file_str)\n",
    "df.index = pd.to_datetime(df['From Date'])"
   ]
  },
  {
   "cell_type": "code",
   "execution_count": 6,
   "id": "e28579c6",
   "metadata": {},
   "outputs": [],
   "source": [
    "def count_obs(array):\n",
    "    count = 0\n",
    "    for elem in array:\n",
    "        if elem != 'None':\n",
    "            count += 1\n",
    "    return count"
   ]
  },
  {
   "cell_type": "code",
   "execution_count": 11,
   "id": "c9e6d2eb",
   "metadata": {},
   "outputs": [
    {
     "name": "stderr",
     "output_type": "stream",
     "text": [
      "/Library/Frameworks/Python.framework/Versions/3.7/lib/python3.7/site-packages/IPython/core/interactiveshell.py:3170: DtypeWarning: Columns (3,4,5,6,7,8,9) have mixed types.Specify dtype option on import or set low_memory=False.\n",
      "  interactivity=interactivity, compiler=compiler, result=result)\n"
     ]
    },
    {
     "name": "stdout",
     "output_type": "stream",
     "text": [
      "Jahangirpuri\n",
      "JNStadium\n"
     ]
    }
   ],
   "source": [
    "# load dataframe from file\n",
    "file_str = '~/Documents/GitHub/HMEI-2021/Delhi_2015-19/Delhi_Alipur.csv'\n",
    "df = pd.read_csv(file_str)\n",
    "df.index = pd.to_datetime(df['From Date'])\n",
    "df = df.drop(columns=['From Date', 'To Date', 'State', 'Station', 'lat', 'lon'])\n",
    "\n",
    "# transform to monthly\n",
    "monthly = df.resample('M').apply(count_obs)\n",
    "obs = monthly.sum(axis=1) # initial series\n",
    "dec_2019 = [obs['2019-12-31']]\n",
    "nov_2019 = [obs['2019-11-30']]\n",
    "\n",
    "for station in stations:\n",
    "    try:\n",
    "        file_str = '~/Documents/GitHub/HMEI-2021/Delhi_2015-19/Delhi_' + station + '.csv'\n",
    "        df = pd.read_csv(file_str)\n",
    "        df.index = pd.to_datetime(df['From Date'])\n",
    "        df = df.drop(columns=['From Date', 'To Date', 'State', 'Station', 'lat', 'lon'])\n",
    "        \n",
    "        monthly = df.resample('M').apply(count_obs)\n",
    "        series = monthly.sum(axis=1)\n",
    "        dec_2019.append(series['2019-12-31'])\n",
    "        nov_2019.append(series['2019-11-30'])\n",
    "        obs += series # add onto total series\n",
    "    except:\n",
    "        print(station)"
   ]
  },
  {
   "cell_type": "code",
   "execution_count": 7,
   "id": "a140c8aa",
   "metadata": {
    "scrolled": false
   },
   "outputs": [
    {
     "name": "stdout",
     "output_type": "stream",
     "text": [
      "Alipur\n",
      "                    PM10 PM2.5    NO2   SO2 Ozone\n",
      "From Date                                        \n",
      "2019-12-12 11:00:00  550   403  94.03  33.6  45.2\n",
      "\n",
      "AnandVihar\n",
      "           PM10 PM2.5     NO2   SO2 Ozone\n",
      "From Date                                \n",
      "2019-12-12  713   418  129.05  13.9  None\n",
      "\n",
      "AshokVihar\n",
      "           PM10 PM2.5   NO2    SO2 Ozone\n",
      "From Date                               \n",
      "2019-12-12  830   582  99.7  10.75  23.4\n",
      "\n",
      "AyaNagar\n",
      "              PM10   PM2.5    NO2  Ozone   City\n",
      "From Date                                      \n",
      "2019-12-12  482.17  327.05  18.61  21.23  Delhi\n",
      "\n",
      "Bawana\n",
      "            PM10 PM2.5    NO2  SO2  Ozone   City\n",
      "From Date                                       \n",
      "2019-12-12  None   444  90.95  9.1  13.05  Delhi\n",
      "\n",
      "Burari\n",
      "              PM10   PM2.5   NO2  Ozone   City\n",
      "From Date                                     \n",
      "2019-12-12  507.06  351.71  22.5  15.99  Delhi\n",
      "\n",
      "CRRI\n",
      "              PM10   PM2.5     NO2 Ozone   City\n",
      "From Date                                      \n",
      "2019-12-12  456.77  278.46  262.17   9.7  Delhi\n",
      "\n",
      "DTU\n",
      "               NO2 Ozone   PM2.5   NO2.1   City\n",
      "From Date                                      \n",
      "2019-12-12  135.35  None  439.34  135.35  Delhi\n",
      "\n",
      "Dwarka\n",
      "              SO2  PM10  PM2.5    NO2  SO2.1   City\n",
      "From Date                                          \n",
      "2019-12-12  52.69  None  286.3  72.38  52.69  Delhi\n",
      "\n",
      "Dwarka8\n",
      "           Ozone PM10 PM2.5    NO2 Ozone.1   City\n",
      "From Date                                        \n",
      "2019-12-12   7.5  724   349  96.35     7.5  Delhi\n",
      "\n",
      "IGI\n",
      "           Ozone   PM2.5    PM10     NO2   City\n",
      "From Date                                      \n",
      "2019-12-12  8.43  235.84  432.41  208.29  Delhi\n",
      "\n",
      "ITO\n",
      "           PM2.5 PM10 PM10.1     NO2   SO2   City\n",
      "From Date                                        \n",
      "2019-12-12   312  397    397  128.62  2.85  Delhi\n",
      "\n"
     ]
    },
    {
     "name": "stderr",
     "output_type": "stream",
     "text": [
      "/Library/Frameworks/Python.framework/Versions/3.7/lib/python3.7/site-packages/IPython/core/interactiveshell.py:3170: DtypeWarning: Columns (3,4,5,6,7,8,9) have mixed types.Specify dtype option on import or set low_memory=False.\n",
      "  interactivity=interactivity, compiler=compiler, result=result)\n"
     ]
    },
    {
     "name": "stdout",
     "output_type": "stream",
     "text": [
      "Jahangirpuri\n",
      "\n",
      "JNStadium\n",
      "\n",
      "LodhiRoad\n",
      "             PM2.5  Ozone PM2.5.1    NO2    City\n",
      "From Date                                       \n",
      "2019-12-12  277.35  14.21  277.35  75.01  Delhi \n",
      "\n",
      "MandirMarg\n",
      "             NO2 PM10 PM2.5   SO2 Ozone   City\n",
      "From Date                                     \n",
      "2019-12-12  65.5  445   310  7.85   3.7  Delhi\n",
      "\n",
      "Mundka\n",
      "           PM10    NO2 Ozone PM2.5   SO2   City\n",
      "From Date                                      \n",
      "2019-12-12  932  56.55  45.9   597  15.4  Delhi\n",
      "\n",
      "Najafgarh\n",
      "           PM10   NO2 Ozone PM2.5  SO2   City\n",
      "From Date                                    \n",
      "2019-12-12  429  61.2   4.5   307  5.8  Delhi\n",
      "\n",
      "Narela\n",
      "           PM10 PM2.5    NO2  SO2 Ozone   City\n",
      "From Date                                     \n",
      "2019-12-12  658   410  77.65  7.5  17.3  Delhi\n",
      "\n",
      "NationalStadium\n",
      "            Ozone PM10 PM2.5     NO2   City\n",
      "From Date                                  \n",
      "2019-12-12  12.05  494   226  162.45  Delhi\n",
      "\n",
      "NehruNagar\n",
      "           PM10 PM2.5   NO2    SO2 Ozone         City\n",
      "From Date                                            \n",
      "2019-12-12  638   437  None  16.85  7.55  Nehru Nagar\n",
      "\n",
      "NorthCampus\n",
      "             PM10   PM2.5  Ozone    NO2   City\n",
      "From Date                                     \n",
      "2019-12-12  646.9  439.53  19.87  71.49  Delhi\n",
      "\n",
      "Okhla\n",
      "           PM10 PM2.5    NO2 Ozone   City\n",
      "From Date                                \n",
      "2019-12-12  688   410  65.15  12.9  Delhi\n",
      "\n",
      "Patparganj\n",
      "              NO2 Ozone PM2.5 PM10   SO2   City\n",
      "From Date                                      \n",
      "2019-12-12  38.05  8.95   317  472  2.75  Delhi\n",
      "\n",
      "PunjabiBagh\n",
      "              NO2 Ozone PM10 PM2.5  SO2   City\n",
      "From Date                                     \n",
      "2019-12-31  57.65  6.75  283   197  6.2  Delhi\n",
      "\n",
      "PusaDPCC\n",
      "           PM2.5 PM10    SO2   NO2  SO2.1   City\n",
      "From Date                                       \n",
      "2019-12-12   237  342  11.25  82.5  11.25  Delhi\n",
      "\n",
      "RKPuram\n",
      "              NO2 Ozone PM10 PM2.5   SO2   City\n",
      "From Date                                      \n",
      "2019-12-31  29.15  4.85  306   174  9.35  Delhi\n",
      "\n",
      "Rohini\n",
      "           Ozone PM2.5 PM10    NO2   City\n",
      "From Date                                \n",
      "2019-12-12  48.6   532  658  50.65  Delhi\n",
      "\n",
      "Shadipur\n",
      "              NO2 Ozone  PM10   PM2.5   SO2   City\n",
      "From Date                                         \n",
      "2019-12-31  80.08   2.9  None  269.31  None  Delhi\n",
      "\n",
      "Sirifort\n",
      "             PM10  PM2.5     NO2 Ozone    SO2   City\n",
      "From Date                                           \n",
      "2019-12-12  486.5  354.5  107.34  14.4  16.85  Delhi\n",
      "\n",
      "SoniaVihar\n",
      "           PM2.5 Ozone PM10 Ozone.1 PM2.5.1   City\n",
      "From Date                                         \n",
      "2019-12-12   533  13.7  787    13.7     533  Delhi\n",
      "\n",
      "SriAuro\n",
      "           PM10    NO2 Ozone PM2.5   SO2   City\n",
      "From Date                                      \n",
      "2019-12-31  277  27.35  11.8   183  3.65  Delhi\n",
      "\n",
      "VivekVihar\n",
      "            SO2 PM2.5 PM10 Ozone SO2.1   City\n",
      "From Date                                    \n",
      "2019-12-31  7.6   206  285  5.75   7.6  Delhi\n",
      "\n",
      "Wazirpur\n",
      "           Ozone PM2.5 PM10   NO2   SO2   City\n",
      "From Date                                     \n",
      "2019-12-12  8.45   638  918  53.6  10.4  Delhi\n",
      "\n"
     ]
    }
   ],
   "source": [
    "for station in stations:\n",
    "    try:\n",
    "        file_str = '~/Documents/GitHub/HMEI-2021/Delhi_2015-19/Delhi_' + station + '.csv'\n",
    "        df = pd.read_csv(file_str)\n",
    "        df.index = pd.to_datetime(df['From Date'])\n",
    "        df = df.drop(columns=['From Date', 'To Date', 'State', 'Station', 'lat', 'lon'])\n",
    "        print(station)\n",
    "        print(df.tail(1))\n",
    "        print()\n",
    "    except:\n",
    "        print(station)\n",
    "        print()"
   ]
  },
  {
   "cell_type": "code",
   "execution_count": null,
   "id": "167ddfc0",
   "metadata": {},
   "outputs": [],
   "source": []
  },
  {
   "cell_type": "code",
   "execution_count": 12,
   "id": "32769fc8",
   "metadata": {},
   "outputs": [
    {
     "data": {
      "text/plain": [
       "[<matplotlib.lines.Line2D at 0x7f8cc28e8210>]"
      ]
     },
     "execution_count": 12,
     "metadata": {},
     "output_type": "execute_result"
    },
    {
     "data": {
      "image/png": "[encoded data removed]",
      "text/plain": [
       "<Figure size 432x288 with 1 Axes>"
      ]
     },
     "metadata": {
      "needs_background": "light"
     },
     "output_type": "display_data"
    }
   ],
   "source": [
    "# total hourly observations each month 2015-2019\n",
    "plt.plot(obs) "
   ]
  },
  {
   "cell_type": "code",
   "execution_count": 13,
   "id": "b1529302",
   "metadata": {
    "scrolled": true
   },
   "outputs": [
    {
     "data": {
      "text/plain": [
       "[<matplotlib.lines.Line2D at 0x7f8cc2004ad0>]"
      ]
     },
     "execution_count": 13,
     "metadata": {},
     "output_type": "execute_result"
    },
    {
     "data": {
      "image/png": "[encoded data removed]",
      "text/plain": [
       "<Figure size 432x288 with 1 Axes>"
      ]
     },
     "metadata": {
      "needs_background": "light"
     },
     "output_type": "display_data"
    }
   ],
   "source": [
    "plt.plot(obs[:'2019-11-30']) # excluding Dec, 2019"
   ]
  },
  {
   "cell_type": "code",
   "execution_count": 16,
   "id": "bab93fed",
   "metadata": {},
   "outputs": [
    {
     "data": {
      "text/plain": [
       "[<matplotlib.lines.Line2D at 0x7f8cc418ba90>]"
      ]
     },
     "execution_count": 16,
     "metadata": {},
     "output_type": "execute_result"
    },
    {
     "data": {
      "image/png": "[encoded data removed]",
      "text/plain": [
       "<Figure size 432x288 with 1 Axes>"
      ]
     },
     "metadata": {
      "needs_background": "light"
     },
     "output_type": "display_data"
    }
   ],
   "source": [
    "# observations reported by individual stations in Dec, 2019\n",
    "plt.plot(dec_2019)"
   ]
  },
  {
   "cell_type": "code",
   "execution_count": 17,
   "id": "3fb887c4",
   "metadata": {},
   "outputs": [
    {
     "data": {
      "text/plain": [
       "[<matplotlib.lines.Line2D at 0x7f8cc4164750>]"
      ]
     },
     "execution_count": 17,
     "metadata": {},
     "output_type": "execute_result"
    },
    {
     "data": {
      "image/png": "[encoded data removed]",
      "text/plain": [
       "<Figure size 432x288 with 1 Axes>"
      ]
     },
     "metadata": {
      "needs_background": "light"
     },
     "output_type": "display_data"
    }
   ],
   "source": [
    "# observations reported by individual stations in Nov, 2019\n",
    "plt.plot(nov_2019)"
   ]
  }
 ],
 "metadata": {
  "kernelspec": {
   "display_name": "Python 3",
   "language": "python",
   "name": "python3"
  },
  "language_info": {
   "codemirror_mode": {
    "name": "ipython",
    "version": 3
   },
   "file_extension": ".py",
   "mimetype": "text/x-python",
   "name": "python",
   "nbconvert_exporter": "python",
   "pygments_lexer": "ipython3",
   "version": "3.7.9"
  }
 },
 "nbformat": 4,
 "nbformat_minor": 5
}
