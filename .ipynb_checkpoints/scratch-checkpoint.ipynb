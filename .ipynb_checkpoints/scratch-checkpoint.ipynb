{
 "cells": [
  {
   "cell_type": "markdown",
   "id": "b58b0309",
   "metadata": {},
   "source": [
    "# Scratch"
   ]
  },
  {
   "cell_type": "code",
   "execution_count": null,
   "id": "9d83bcd0",
   "metadata": {},
   "outputs": [],
   "source": [
    "def graphPeriods(station):\n",
    "    graph_data = pd.DataFrame(index=['PRELD2020', 'LD2020', 'POSTLD2020', 'PRELD2021', 'LD2021'],\n",
    "                              columns=station_data[station]['original'].columns)\n",
    "\n",
    "    def add_data(df_station, datestr1, datestr2, rowstr):\n",
    "        subset = df_station.loc[datestr1:datestr2]\n",
    "        for col in subset:\n",
    "            species = subset[col]\n",
    "            elems = []\n",
    "            for elem in species:\n",
    "                if not math.isnan(elem):\n",
    "                    elems.append(elem)\n",
    "            if len(elems) > 0:\n",
    "                avg = sum(elems) / len(elems)\n",
    "                graph_data.loc[rowstr, col] = avg\n",
    "            else:\n",
    "                graph_data.loc[rowstr, col] = math.nan\n",
    "\n",
    "    add_data(station_data[station]['daily'], '2020-03-01', '2020-03-23', 'PRELD2020')\n",
    "    add_data(station_data[station]['daily'], '2020-03-24', '2020-05-31', 'LD2020')\n",
    "    add_data(station_data[station]['daily'], '2020-06-01', '2020-06-30', 'POSTLD2020')\n",
    "    add_data(station_data[station]['daily'], '2021-03-24', '2021-04-18', 'PRELD2021')\n",
    "    add_data(station_data[station]['daily'], '2021-04-19', '2021-05-31', 'LD2021')\n",
    "\n",
    "    print(station)\n",
    "    print(graph_data)\n",
    "    print()\n",
    "    print('Pre-Lockdown 2020: March 1-March 23')\n",
    "    print('Lockdown 2020: March 24-May 31')\n",
    "    print('Post-Lockdown 2020: June 1-June 30')\n",
    "    print('Pre-Lockdown 2021: March 24-April 18')\n",
    "    print('Lockdown 2021: April 19-May 31')\n",
    "    \n",
    "    cols = graph_data.columns\n",
    "    fig, axs = plt.subplots(len(cols), figsize=(10,23))\n",
    "    colors = ['y', 'y', 'y', 'b', 'b']\n",
    "    \n",
    "    for col, ax, c in zip(cols, axs, colors):\n",
    "        y1 = graph_data[col]['PRELD2020':'POSTLD2020'] \n",
    "        ax.bar(x=graph_data.index[0:3], height=y1, color='y')\n",
    "        y2 = graph_data[col]['PRELD2021':] \n",
    "        ax.bar(x=graph_data.index[3:], height=y2, color='b')\n",
    "        ax.set_ylabel(col + ' ($µg/m^3$)', fontsize=10)\n",
    "        ax.set_title(col, fontsize=14)\n",
    "    \n",
    "    plt.suptitle('Comparing Pollutant Levels Before,\\nDuring, and After Lockdown\\n\\n' +\n",
    "              'Station: ' + station, fontsize='18')\n",
    "    plt.subplots_adjust(bottom=0.1, \n",
    "                        top=0.9, \n",
    "                        hspace=0.4)\n",
    "    \n",
    "    fig_title = 'Lockdown_Comparison_' + station + '.tiff'\n",
    "    # plt.savefig(fig_title, bbox_inches=\"tight\")\n",
    "    plt.show()\n",
    "    \n",
    "    return graph_data"
   ]
  }
 ],
 "metadata": {
  "kernelspec": {
   "display_name": "Python 3",
   "language": "python",
   "name": "python3"
  },
  "language_info": {
   "codemirror_mode": {
    "name": "ipython",
    "version": 3
   },
   "file_extension": ".py",
   "mimetype": "text/x-python",
   "name": "python",
   "nbconvert_exporter": "python",
   "pygments_lexer": "ipython3",
   "version": "3.7.9"
  }
 },
 "nbformat": 4,
 "nbformat_minor": 5
}
