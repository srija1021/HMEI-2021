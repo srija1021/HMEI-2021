{
 "cells": [
  {
   "cell_type": "code",
   "execution_count": 34,
   "id": "84366c96",
   "metadata": {},
   "outputs": [],
   "source": [
    "import geopandas as gpd\n",
    "import matplotlib.pyplot as plt"
   ]
  },
  {
   "cell_type": "code",
   "execution_count": 56,
   "id": "f5716696",
   "metadata": {},
   "outputs": [
    {
     "data": {
      "text/html": [
       "<div>\n",
       "<style scoped>\n",
       "    .dataframe tbody tr th:only-of-type {\n",
       "        vertical-align: middle;\n",
       "    }\n",
       "\n",
       "    .dataframe tbody tr th {\n",
       "        vertical-align: top;\n",
       "    }\n",
       "\n",
       "    .dataframe thead th {\n",
       "        text-align: right;\n",
       "    }\n",
       "</style>\n",
       "<table border=\"1\" class=\"dataframe\">\n",
       "  <thead>\n",
       "    <tr style=\"text-align: right;\">\n",
       "      <th></th>\n",
       "      <th>NAME</th>\n",
       "      <th>PLACE</th>\n",
       "      <th>ADDR:CITY</th>\n",
       "      <th>ADDR:HOUSE</th>\n",
       "      <th>ADDR:FLATS</th>\n",
       "      <th>ADDR:POSTC</th>\n",
       "      <th>geometry</th>\n",
       "    </tr>\n",
       "  </thead>\n",
       "  <tbody>\n",
       "    <tr>\n",
       "      <th>0</th>\n",
       "      <td>Farrukhnagan</td>\n",
       "      <td>village</td>\n",
       "      <td>None</td>\n",
       "      <td>None</td>\n",
       "      <td>None</td>\n",
       "      <td>None</td>\n",
       "      <td>POINT (76.82409 28.44734)</td>\n",
       "    </tr>\n",
       "    <tr>\n",
       "      <th>1</th>\n",
       "      <td>Sultanpur</td>\n",
       "      <td>village</td>\n",
       "      <td>None</td>\n",
       "      <td>None</td>\n",
       "      <td>None</td>\n",
       "      <td>None</td>\n",
       "      <td>POINT (76.89174 28.46791)</td>\n",
       "    </tr>\n",
       "    <tr>\n",
       "      <th>2</th>\n",
       "      <td>Chandu</td>\n",
       "      <td>village</td>\n",
       "      <td>None</td>\n",
       "      <td>None</td>\n",
       "      <td>None</td>\n",
       "      <td>None</td>\n",
       "      <td>POINT (76.92270 28.47160)</td>\n",
       "    </tr>\n",
       "    <tr>\n",
       "      <th>3</th>\n",
       "      <td>Bahadurgarh</td>\n",
       "      <td>village</td>\n",
       "      <td>None</td>\n",
       "      <td>None</td>\n",
       "      <td>None</td>\n",
       "      <td>None</td>\n",
       "      <td>POINT (76.93294 28.69042)</td>\n",
       "    </tr>\n",
       "    <tr>\n",
       "      <th>4</th>\n",
       "      <td>Dhulkot</td>\n",
       "      <td>village</td>\n",
       "      <td>None</td>\n",
       "      <td>None</td>\n",
       "      <td>None</td>\n",
       "      <td>None</td>\n",
       "      <td>POINT (76.96117 28.47578)</td>\n",
       "    </tr>\n",
       "  </tbody>\n",
       "</table>\n",
       "</div>"
      ],
      "text/plain": [
       "           NAME    PLACE ADDR:CITY ADDR:HOUSE ADDR:FLATS ADDR:POSTC  \\\n",
       "0  Farrukhnagan  village      None       None       None       None   \n",
       "1     Sultanpur  village      None       None       None       None   \n",
       "2        Chandu  village      None       None       None       None   \n",
       "3   Bahadurgarh  village      None       None       None       None   \n",
       "4       Dhulkot  village      None       None       None       None   \n",
       "\n",
       "                    geometry  \n",
       "0  POINT (76.82409 28.44734)  \n",
       "1  POINT (76.89174 28.46791)  \n",
       "2  POINT (76.92270 28.47160)  \n",
       "3  POINT (76.93294 28.69042)  \n",
       "4  POINT (76.96117 28.47578)  "
      ]
     },
     "execution_count": 56,
     "metadata": {},
     "output_type": "execute_result"
    }
   ],
   "source": [
    "file_path = 'delhi_location/delhi_location.shp'\n",
    "df = gpd.read_file(file_path)\n",
    "df.head()"
   ]
  },
  {
   "cell_type": "code",
   "execution_count": 59,
   "id": "5eef2c43",
   "metadata": {},
   "outputs": [
    {
     "data": {
      "text/plain": [
       "shapely.geometry.point.Point"
      ]
     },
     "execution_count": 59,
     "metadata": {},
     "output_type": "execute_result"
    }
   ],
   "source": [
    "type(df['geometry'][0])"
   ]
  },
  {
   "cell_type": "code",
   "execution_count": 61,
   "id": "a96ebf7b",
   "metadata": {},
   "outputs": [
    {
     "data": {
      "text/plain": [
       "28.4473422"
      ]
     },
     "execution_count": 61,
     "metadata": {},
     "output_type": "execute_result"
    }
   ],
   "source": [
    "x = df['geometry'][0].y\n",
    "y = df['geometry'][0].x\n",
    "df['geometry'][0] = "
   ]
  },
  {
   "cell_type": "code",
   "execution_count": 31,
   "id": "6562c372",
   "metadata": {},
   "outputs": [
    {
     "data": {
      "text/plain": [
       "0       village\n",
       "1       village\n",
       "2       village\n",
       "3       village\n",
       "4       village\n",
       "         ...   \n",
       "1106     hamlet\n",
       "1107       None\n",
       "1108       None\n",
       "1109     suburb\n",
       "1110       city\n",
       "Name: PLACE, Length: 1111, dtype: object"
      ]
     },
     "execution_count": 31,
     "metadata": {},
     "output_type": "execute_result"
    }
   ],
   "source": [
    "df['PLACE']"
   ]
  },
  {
   "cell_type": "code",
   "execution_count": 46,
   "id": "e8b02e0f",
   "metadata": {},
   "outputs": [
    {
     "data": {
      "text/plain": [
       "<AxesSubplot:>"
      ]
     },
     "execution_count": 46,
     "metadata": {},
     "output_type": "execute_result"
    },
    {
     "data": {
      "image/png": "[encoded data removed]",
      "text/plain": [
       "<Figure size 1440x720 with 1 Axes>"
      ]
     },
     "metadata": {
      "needs_background": "light"
     },
     "output_type": "display_data"
    }
   ],
   "source": [
    "fig, ax = plt.subplots(figsize=(20, 10))\n",
    "df.plot(ax=ax, legend=True)"
   ]
  },
  {
   "cell_type": "code",
   "execution_count": null,
   "id": "02205a8e",
   "metadata": {},
   "outputs": [],
   "source": []
  }
 ],
 "metadata": {
  "kernelspec": {
   "display_name": "Python 3",
   "language": "python",
   "name": "python3"
  },
  "language_info": {
   "codemirror_mode": {
    "name": "ipython",
    "version": 3
   },
   "file_extension": ".py",
   "mimetype": "text/x-python",
   "name": "python",
   "nbconvert_exporter": "python",
   "pygments_lexer": "ipython3",
   "version": "3.7.9"
  }
 },
 "nbformat": 4,
 "nbformat_minor": 5
}
