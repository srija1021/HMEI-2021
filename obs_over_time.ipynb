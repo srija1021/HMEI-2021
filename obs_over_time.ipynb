{
 "cells": [
  {
   "cell_type": "markdown",
   "id": "3fc27114",
   "metadata": {},
   "source": [
    "# Plotting quantity of observations over time"
   ]
  },
  {
   "cell_type": "code",
   "execution_count": 1,
   "id": "a64a4489",
   "metadata": {},
   "outputs": [
    {
     "name": "stdout",
     "output_type": "stream",
     "text": [
      "Done\n"
     ]
    }
   ],
   "source": [
    "# required modules\n",
    "import numpy as np\n",
    "import pandas as pd\n",
    "import matplotlib.pyplot  as plt\n",
    "import seaborn as sns\n",
    "import openpyxl\n",
    "import math\n",
    "\n",
    "# %matplotlib inline\n",
    "# sns.set()\n",
    "import datetime as dt\n",
    "import matplotlib.dates\n",
    "from matplotlib.ticker import NullFormatter\n",
    "from matplotlib.dates import MonthLocator, DateFormatter\n",
    "from  matplotlib import *\n",
    "# from mpl_toolkits.basemap import Basemap\n",
    "# from mpl_toolkits.axes_grid1 import make_axes_locatable\n",
    "# import glob\n",
    "# from matplotlib.backends.backend_pdf import PdfPages\n",
    "\n",
    "print ('Done')"
   ]
  },
  {
   "cell_type": "code",
   "execution_count": 69,
   "id": "ab3e578a",
   "metadata": {},
   "outputs": [
    {
     "data": {
      "text/html": [
       "<div>\n",
       "<style scoped>\n",
       "    .dataframe tbody tr th:only-of-type {\n",
       "        vertical-align: middle;\n",
       "    }\n",
       "\n",
       "    .dataframe tbody tr th {\n",
       "        vertical-align: top;\n",
       "    }\n",
       "\n",
       "    .dataframe thead th {\n",
       "        text-align: right;\n",
       "    }\n",
       "</style>\n",
       "<table border=\"1\" class=\"dataframe\">\n",
       "  <thead>\n",
       "    <tr style=\"text-align: right;\">\n",
       "      <th></th>\n",
       "      <th>Full</th>\n",
       "      <th>Spaced</th>\n",
       "      <th>Key</th>\n",
       "      <th>Key2</th>\n",
       "    </tr>\n",
       "  </thead>\n",
       "  <tbody>\n",
       "    <tr>\n",
       "      <th>0</th>\n",
       "      <td>Alipur, Delhi - DPCC</td>\n",
       "      <td>Alipur</td>\n",
       "      <td>Alipur</td>\n",
       "      <td>Alipur</td>\n",
       "    </tr>\n",
       "    <tr>\n",
       "      <th>1</th>\n",
       "      <td>Anand Vihar, Delhi - DPCC</td>\n",
       "      <td>Anand Vihar</td>\n",
       "      <td>Anand</td>\n",
       "      <td>AnandVihar</td>\n",
       "    </tr>\n",
       "    <tr>\n",
       "      <th>2</th>\n",
       "      <td>Ashok Vihar, Delhi - DPCC</td>\n",
       "      <td>Ashok Vihar</td>\n",
       "      <td>Ashok</td>\n",
       "      <td>AshokVihar</td>\n",
       "    </tr>\n",
       "    <tr>\n",
       "      <th>3</th>\n",
       "      <td>Aya Nagar, Delhi - IMD</td>\n",
       "      <td>Aya Nagar</td>\n",
       "      <td>Aya</td>\n",
       "      <td>AyaNagar</td>\n",
       "    </tr>\n",
       "    <tr>\n",
       "      <th>4</th>\n",
       "      <td>Bawana, Delhi - DPCC</td>\n",
       "      <td>Bawana</td>\n",
       "      <td>Bawana</td>\n",
       "      <td>Bawana</td>\n",
       "    </tr>\n",
       "  </tbody>\n",
       "</table>\n",
       "</div>"
      ],
      "text/plain": [
       "                        Full       Spaced     Key        Key2\n",
       "0       Alipur, Delhi - DPCC       Alipur  Alipur      Alipur\n",
       "1  Anand Vihar, Delhi - DPCC  Anand Vihar   Anand  AnandVihar\n",
       "2  Ashok Vihar, Delhi - DPCC  Ashok Vihar   Ashok  AshokVihar\n",
       "3     Aya Nagar, Delhi - IMD    Aya Nagar     Aya    AyaNagar\n",
       "4       Bawana, Delhi - DPCC       Bawana  Bawana      Bawana"
      ]
     },
     "execution_count": 69,
     "metadata": {},
     "output_type": "execute_result"
    }
   ],
   "source": [
    "# get list of stations\n",
    "stations_file = '~/Documents/GitHub/HMEI-2021/stations.csv'\n",
    "\n",
    "df_stations = pd.read_csv(stations_file)\n",
    "df_stations.head()"
   ]
  },
  {
   "cell_type": "code",
   "execution_count": 70,
   "id": "3b82eaeb",
   "metadata": {},
   "outputs": [
    {
     "data": {
      "text/plain": [
       "33"
      ]
     },
     "execution_count": 70,
     "metadata": {},
     "output_type": "execute_result"
    }
   ],
   "source": [
    "# refer to stations by preset keys\n",
    "stations = df_stations['Key2']\n",
    "stations = [station for station in stations if type(station) == str]\n",
    "stations = stations[1:]\n",
    "len(stations)"
   ]
  },
  {
   "cell_type": "code",
   "execution_count": 61,
   "id": "e28579c6",
   "metadata": {},
   "outputs": [],
   "source": [
    "def count_obs(array):\n",
    "    count = 0\n",
    "    for elem in array:\n",
    "        if elem != 'None':\n",
    "            count += 1\n",
    "    return count"
   ]
  },
  {
   "cell_type": "code",
   "execution_count": 67,
   "id": "c9e6d2eb",
   "metadata": {},
   "outputs": [
    {
     "name": "stdout",
     "output_type": "stream",
     "text": [
      "Jahangirpur\n",
      "JNStadium\n"
     ]
    }
   ],
   "source": [
    "# load dataframe from file\n",
    "file_str = '~/Documents/GitHub/HMEI-2021/Delhi_2015-19/Delhi_Alipur.csv'\n",
    "df = pd.read_csv(file_str)\n",
    "df.index = pd.to_datetime(df['From Date'])\n",
    "df = df.drop(columns=['From Date', 'To Date', 'State', 'Station', 'lat', 'lon'])\n",
    "\n",
    "# transform to monthly\n",
    "monthly = df.resample('M').apply(count_obs)\n",
    "obs = monthly.sum(axis=1) # initial series\n",
    "\n",
    "for station in stations:\n",
    "    try:\n",
    "        file_str = '~/Documents/GitHub/HMEI-2021/Delhi_2015-19/Delhi_' + station + '.csv'\n",
    "        df = pd.read_csv(file_str)\n",
    "        df.index = pd.to_datetime(df['From Date'])\n",
    "        df = df.drop(columns=['From Date', 'To Date', 'State', 'Station', 'lat', 'lon'])\n",
    "        \n",
    "        monthly = df.resample('M').apply(count_obs)\n",
    "        series = monthly.sum(axis=1)\n",
    "        obs += series # add onto total series\n",
    "    except:\n",
    "        print(station)"
   ]
  },
  {
   "cell_type": "code",
   "execution_count": 72,
   "id": "32769fc8",
   "metadata": {},
   "outputs": [
    {
     "data": {
      "text/plain": [
       "[<matplotlib.lines.Line2D at 0x7f9d262eb190>]"
      ]
     },
     "execution_count": 72,
     "metadata": {},
     "output_type": "execute_result"
    },
    {
     "data": {
      "image/png": "[encoded data removed]",
      "text/plain": [
       "<Figure size 432x288 with 1 Axes>"
      ]
     },
     "metadata": {
      "needs_background": "light"
     },
     "output_type": "display_data"
    }
   ],
   "source": [
    "plt.plot(obs)"
   ]
  },
  {
   "cell_type": "code",
   "execution_count": 68,
   "id": "b1529302",
   "metadata": {
    "scrolled": true
   },
   "outputs": [
    {
     "data": {
      "text/plain": [
       "[<matplotlib.lines.Line2D at 0x7f9d27704c10>]"
      ]
     },
     "execution_count": 68,
     "metadata": {},
     "output_type": "execute_result"
    },
    {
     "data": {
      "image/png": "[encoded data removed]",
      "text/plain": [
       "<Figure size 432x288 with 1 Axes>"
      ]
     },
     "metadata": {
      "needs_background": "light"
     },
     "output_type": "display_data"
    }
   ],
   "source": [
    "plt.plot(obs[:'2019-11-30'])"
   ]
  }
 ],
 "metadata": {
  "kernelspec": {
   "display_name": "Python 3",
   "language": "python",
   "name": "python3"
  },
  "language_info": {
   "codemirror_mode": {
    "name": "ipython",
    "version": 3
   },
   "file_extension": ".py",
   "mimetype": "text/x-python",
   "name": "python",
   "nbconvert_exporter": "python",
   "pygments_lexer": "ipython3",
   "version": "3.7.9"
  }
 },
 "nbformat": 4,
 "nbformat_minor": 5
}
